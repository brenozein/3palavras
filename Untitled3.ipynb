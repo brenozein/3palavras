{
  "nbformat": 4,
  "nbformat_minor": 0,
  "metadata": {
    "colab": {
      "provenance": []
    },
    "kernelspec": {
      "name": "python3",
      "display_name": "Python 3"
    },
    "language_info": {
      "name": "python"
    }
  },
  "cells": [
    {
      "cell_type": "markdown",
      "source": [
        "1. O que ord() faz em Python?\n",
        "\n",
        "Converte um caractere único em seu código inteiro Unicode.\n",
        "\n",
        "2. O que chr() faz?\n",
        "\n",
        "Converte um número inteiro (código Unicode) de volta para o caractere correspondente.\n",
        "\n",
        "3. Como transformar uma string em uma lista de letras?\n",
        "\n",
        "Utiliza-se uma função que separa a string em caracteres individuais, formando uma lista.\n",
        "\n",
        "4. O que são f-strings?\n",
        "\n",
        "São strings formatadas que permitem incorporar variáveis ou expressões diretamente dentro de chaves, facilitando a formatação sem concatenação manual.\n",
        "\n",
        "5. Como acessar letras específicas de uma string com índice?\n",
        "\n",
        "Usa-se a posição (índice) do caractere, começando do zero, podendo também usar índices negativos para acessar do fim.\n",
        "\n",
        "6. O que acontece se tentarmos acessar uma letra que não existe?\n",
        "\n",
        "O Python lança um IndexError, pois o índice está fora do intervalo da string.\n",
        "\n",
        "7. O que é a tabela ASCII?\n",
        "\n",
        "É um padrão que associa números inteiros a caracteres básicos, como letras, dígitos e símbolos, formando a base para a codificação de textos.\n",
        "\n",
        "\n"
      ],
      "metadata": {
        "id": "R2zosKIcMPkS"
      }
    },
    {
      "cell_type": "code",
      "execution_count": 1,
      "metadata": {
        "colab": {
          "base_uri": "https://localhost:8080/"
        },
        "id": "1iZFRD8qMEnF",
        "outputId": "e82ba849-0ae2-48a0-cf63-151aeb8f33e5"
      },
      "outputs": [
        {
          "output_type": "stream",
          "name": "stdout",
          "text": [
            "Digite a primeira palavra (até 5 letras): Casas\n",
            "Digite a segunda palavra (até 5 letras): Breno\n",
            "Digite a terceira palavra (até 5 letras): Carros\n",
            "🔐 Mensagem codificada: Dbtbt Csfop Dbssp\n",
            "Digite uma palavra codificada para decodificar (até 5 letras): Csfop\n",
            "🔓 Palavra decodificada: Breno\n"
          ]
        }
      ],
      "source": [
        "\n",
        "# Solicitar as três palavras\n",
        "palavra1 = input(\"Digite a primeira palavra (até 5 letras): \")\n",
        "palavra2 = input(\"Digite a segunda palavra (até 5 letras): \")\n",
        "palavra3 = input(\"Digite a terceira palavra (até 5 letras): \")\n",
        "\n",
        "# Primeira palavra\n",
        "cod1_1 = chr(ord(palavra1[0]) + 1)\n",
        "cod1_2 = chr(ord(palavra1[1]) + 1)\n",
        "cod1_3 = chr(ord(palavra1[2]) + 1)\n",
        "cod1_4 = chr(ord(palavra1[3]) + 1)\n",
        "cod1_5 = chr(ord(palavra1[4]) + 1)\n",
        "palavra1_codificada = cod1_1 + cod1_2 + cod1_3 + cod1_4 + cod1_5\n",
        "\n",
        "# Segunda palavra\n",
        "cod2_1 = chr(ord(palavra2[0]) + 1)\n",
        "cod2_2 = chr(ord(palavra2[1]) + 1)\n",
        "cod2_3 = chr(ord(palavra2[2]) + 1)\n",
        "cod2_4 = chr(ord(palavra2[3]) + 1)\n",
        "cod2_5 = chr(ord(palavra2[4]) + 1)\n",
        "palavra2_codificada = cod2_1 + cod2_2 + cod2_3 + cod2_4 + cod2_5\n",
        "\n",
        "# Terceira palavra\n",
        "cod3_1 = chr(ord(palavra3[0]) + 1)\n",
        "cod3_2 = chr(ord(palavra3[1]) + 1)\n",
        "cod3_3 = chr(ord(palavra3[2]) + 1)\n",
        "cod3_4 = chr(ord(palavra3[3]) + 1)\n",
        "cod3_5 = chr(ord(palavra3[4]) + 1)\n",
        "palavra3_codificada = cod3_1 + cod3_2 + cod3_3 + cod3_4 + cod3_5\n",
        "\n",
        "#Mensagem codificada\n",
        "print(f\"🔐 Mensagem codificada: {palavra1_codificada} {palavra2_codificada} {palavra3_codificada}\")\n",
        "\n",
        "# Decodificar a palavra\n",
        "palavra_codificada = input(\"Digite uma palavra codificada para decodificar (até 5 letras): \")\n",
        "dec1 = chr(ord(palavra_codificada[0]) - 1)\n",
        "dec2 = chr(ord(palavra_codificada[1]) - 1)\n",
        "dec3 = chr(ord(palavra_codificada[2]) - 1)\n",
        "dec4 = chr(ord(palavra_codificada[3]) - 1)\n",
        "dec5 = chr(ord(palavra_codificada[4]) - 1)\n",
        "palavra_decodificada = dec1 + dec2 + dec3 + dec4 + dec5\n",
        "\n",
        "# Mostra a palavra decodificada\n",
        "print(f\"🔓 Palavra decodificada: {palavra_decodificada}\")\n"
      ]
    }
  ]
}